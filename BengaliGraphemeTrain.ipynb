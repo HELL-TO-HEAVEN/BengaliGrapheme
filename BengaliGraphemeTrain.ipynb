{
 "cells": [
  {
   "cell_type": "code",
   "execution_count": 1,
   "metadata": {
    "collapsed": true
   },
   "outputs": [],
   "source": [
    "import warnings\n",
    "import os\n",
    "os.environ['TF_CPP_MIN_LOG_LEVEL'] = '3' \n",
    "warnings.filterwarnings('ignore')"
   ]
  },
  {
   "cell_type": "code",
   "execution_count": 2,
   "metadata": {},
   "outputs": [
    {
     "name": "stderr",
     "output_type": "stream",
     "text": [
      "Using TensorFlow backend.\n"
     ]
    }
   ],
   "source": [
    "import tensorflow as tf\n",
    "import pandas as pd\n",
    "import numpy as np\n",
    "import matplotlib.pyplot  as plt\n",
    "import tqdm\n",
    "import timeit\n",
    "import PIL.Image\n",
    "import pickle\n",
    "import seaborn as sns\n",
    "import gc\n",
    "import cv2\n",
    "import keras\n",
    "from keras import regularizers\n",
    "\n",
    "\n",
    "from keras.models import Model, Input\n",
    "from keras.layers import Activation, Concatenate, AveragePooling2D, GlobalAveragePooling2D\n",
    "from keras.layers import Dense, Conv2D, Flatten, MaxPool2D\n",
    "from keras.layers import Dropout, BatchNormalization\n",
    "from keras.optimizers import Adam\n",
    "from keras.callbacks import ReduceLROnPlateau\n",
    "from keras.initializers import RandomNormal\n",
    "from sklearn.model_selection import train_test_split\n",
    "from keras.callbacks import ReduceLROnPlateau, ModelCheckpoint, EarlyStopping\n",
    "from keras.initializers import RandomNormal\n",
    "\n",
    "import mlflow.keras\n",
    "\n",
    "mlflow.keras.autolog()\n",
    "\n",
    "\n",
    "%matplotlib inline"
   ]
  },
  {
   "cell_type": "code",
   "execution_count": 3,
   "metadata": {
    "collapsed": true
   },
   "outputs": [],
   "source": [
    "IM_HEIGHT = 137\n",
    "IM_WIDTH = 236"
   ]
  },
  {
   "cell_type": "code",
   "execution_count": 4,
   "metadata": {
    "collapsed": true
   },
   "outputs": [],
   "source": [
    "def collect_gc():\n",
    "    gc.collect()\n",
    "\n",
    "def display_images(train_parqutet,train_csv, num_images=10):\n",
    "    plt.figure()\n",
    "    fig, ax = plt.subplots(5,5,figsize=(12,12))\n",
    "    for imageid in range(num_images):\n",
    "        #print(imageid)\n",
    "        image_rec = train_parqutet.iloc[imageid]\n",
    "        image_id = image_rec[\"image_id\"]\n",
    "        #print (image_id)\n",
    "        image_i = image_rec.drop(\"image_id\") \n",
    "        img_arr = np.array(image_i).reshape(137,236).astype(\"float32\")\n",
    "        train_csv_rec = train_csv.loc[train_csv[\"image_id\"] == image_id]\n",
    "        img = PIL.Image.fromarray(img_arr)\n",
    "        #print(imageid//5, imageid%5)\n",
    "        ax[imageid//5, imageid%5].imshow(img)\n",
    "        ax[imageid//5, imageid%5].set_title(str(np.array(train_csv_rec[\"image_id\"])[0]))\n",
    "        ax[imageid//5, imageid%5].axis(\"off\")\n",
    "        \n",
    "\n"
   ]
  },
  {
   "cell_type": "code",
   "execution_count": 5,
   "metadata": {
    "collapsed": true
   },
   "outputs": [],
   "source": [
    "def ser_df_frame(df, fname):\n",
    "    with open(fname, \"wb\") as output_file:\n",
    "        pickle.dump(df, output_file,protocol=4)\n",
    "        \n",
    "def load_pickle_data(fname):\n",
    "    with open(fname, \"rb\") as input_file:\n",
    "        df = pickle.load(input_file)\n",
    "    return df"
   ]
  },
  {
   "cell_type": "code",
   "execution_count": 6,
   "metadata": {
    "collapsed": true
   },
   "outputs": [],
   "source": [
    "X_train_updated = load_pickle_data(\"X_train_resizwed.pkl\")\n",
    "#X_train = np.array(X_train_updated)\n",
    "#del X_train_updated\n",
    "#gc.collect()"
   ]
  },
  {
   "cell_type": "code",
   "execution_count": 7,
   "metadata": {
    "collapsed": true
   },
   "outputs": [],
   "source": [
    "y_grapheme_root = load_pickle_data(\"y_grapheme.pkl\").values\n",
    "y_vowel_diatric = load_pickle_data(\"y_vowel_diatric.pkl\").values\n",
    "y_consonant_diatric = load_pickle_data(\"y_consonant_diatric.pkl\").values"
   ]
  },
  {
   "cell_type": "code",
   "execution_count": 8,
   "metadata": {},
   "outputs": [
    {
     "data": {
      "text/plain": [
       "numpy.ndarray"
      ]
     },
     "execution_count": 8,
     "metadata": {},
     "output_type": "execute_result"
    }
   ],
   "source": [
    "type(y_grapheme_root)"
   ]
  },
  {
   "cell_type": "code",
   "execution_count": 9,
   "metadata": {
    "collapsed": true
   },
   "outputs": [],
   "source": [
    "y_grapheme_root_dum = pd.get_dummies(y_grapheme_root).values\n",
    "y_vowel_diatric_dum = pd.get_dummies(y_vowel_diatric).values\n",
    "y_consonant_diatric_dum = pd.get_dummies(y_consonant_diatric).values"
   ]
  },
  {
   "cell_type": "code",
   "execution_count": 10,
   "metadata": {
    "collapsed": true
   },
   "outputs": [],
   "source": [
    "x_train, x_test, y_train_root,y_test_root,y_train_vowel, y_test_vowel,y_train_consonant, y_test_consonant = train_test_split(X_train_updated, y_grapheme_root_dum,y_vowel_diatric_dum,y_consonant_diatric_dum, test_size=0.1, random_state=42)  "
   ]
  },
  {
   "cell_type": "code",
   "execution_count": 11,
   "metadata": {
    "collapsed": true
   },
   "outputs": [],
   "source": [
    "x_train=np.array(x_train)\n",
    "x_test=np.array(x_test)"
   ]
  },
  {
   "cell_type": "code",
   "execution_count": 12,
   "metadata": {
    "collapsed": true
   },
   "outputs": [],
   "source": [
    "x_train = x_train.reshape(x_train.shape[0], 128,128,1)"
   ]
  },
  {
   "cell_type": "code",
   "execution_count": 13,
   "metadata": {
    "collapsed": true
   },
   "outputs": [],
   "source": [
    "x_test = x_test.reshape(x_test.shape[0],128,128,1)"
   ]
  },
  {
   "cell_type": "code",
   "execution_count": 14,
   "metadata": {
    "collapsed": true
   },
   "outputs": [],
   "source": [
    "#x_train /= x_train/255."
   ]
  },
  {
   "cell_type": "code",
   "execution_count": 15,
   "metadata": {
    "collapsed": true
   },
   "outputs": [],
   "source": [
    "#x_test /= x_test/255."
   ]
  },
  {
   "cell_type": "markdown",
   "metadata": {},
   "source": [
    "# Model Build\n",
    "Trying a very simple CNN model"
   ]
  },
  {
   "cell_type": "code",
   "execution_count": 27,
   "metadata": {},
   "outputs": [],
   "source": [
    "from keras.utils import multi_gpu_model\n",
    "\n",
    "IMG_SIZE = 128\n",
    "inputs = Input(shape = (IMG_SIZE, IMG_SIZE,1))\n",
    "\n",
    "model = Conv2D(filters=32, kernel_size=(3, 3), padding='SAME', activation='relu', \n",
    "               input_shape=(IMG_SIZE, IMG_SIZE,1))(inputs)\n",
    "model = Conv2D(filters=32, kernel_size=(3, 3), padding='SAME', activation='relu')(model)\n",
    "model = Conv2D(filters=32, kernel_size=(3, 3), padding='SAME', activation='relu')(model)\n",
    "model = BatchNormalization(momentum=0.15)(model)\n",
    "model = MaxPool2D(pool_size=(2, 2))(model)\n",
    "model = Conv2D(filters=32, kernel_size=(5, 5), padding='SAME', activation='relu')(model)\n",
    "model = Dropout(rate=0.3)(model)\n",
    "\n",
    "model = Conv2D(filters=64, kernel_size=(3, 3), padding='SAME', activation='relu')(model)\n",
    "model = Conv2D(filters=64, kernel_size=(3, 3), padding='SAME', activation='relu')(model)\n",
    "model = Conv2D(filters=64, kernel_size=(3, 3), padding='SAME', activation='relu')(model)\n",
    "model = BatchNormalization(momentum=0.15)(model)\n",
    "model = MaxPool2D(pool_size=(2, 2))(model)\n",
    "model = Conv2D(filters=64, kernel_size=(5, 5), padding='SAME', activation='relu')(model)\n",
    "model = BatchNormalization(momentum=0.15)(model)\n",
    "model = Dropout(rate=0.3)(model)\n",
    "\n",
    "model = Conv2D(filters=128, kernel_size=(3, 3), padding='SAME', activation='relu')(model)\n",
    "model = Conv2D(filters=128, kernel_size=(3, 3), padding='SAME', activation='relu')(model)\n",
    "model = Conv2D(filters=128, kernel_size=(3, 3), padding='SAME', activation='relu')(model)\n",
    "model = BatchNormalization(momentum=0.15)(model)\n",
    "model = MaxPool2D(pool_size=(2, 2))(model)\n",
    "model = Conv2D(filters=128, kernel_size=(5, 5), padding='SAME', activation='relu')(model)\n",
    "model = BatchNormalization(momentum=0.15)(model)\n",
    "model = Dropout(rate=0.3)(model)\n",
    "\n",
    "model = Flatten()(model)\n",
    "model = Dense(1024, activation = \"relu\")(model)\n",
    "model = Dropout(rate=0.3)(model)\n",
    "dense = Dense(512, activation = \"relu\")(model)\n",
    "\n",
    "head_root = Dense(168, activation = 'softmax', name=\"root\")(dense)\n",
    "head_vowel = Dense(11, activation = 'softmax', name=\"vowel\")(dense)\n",
    "head_consonant = Dense(7, activation = 'softmax', name=\"consonants\")(dense)\n",
    "\n",
    "#https://keras.io/regularizers/\n",
    "#model.add(Dense(64, input_dim=64,\n",
    "#                kernel_regularizer=regularizers.l2(0.01),\n",
    "#                activity_regularizer=regularizers.l1(0.01)))\n",
    "\n",
    "tf.distribute.MirroredStrategy()\n",
    "model = Model(inputs=inputs, outputs=[head_root, head_vowel, head_consonant])\n",
    "\n",
    "#optzer = keras.optimizers.Adam(learning_rate=0.0001, beta_1=0.9, beta_2=0.999, amsgrad=False)\n",
    "#optzer = keras.optimizers.Adam(learning_rate=0.001, beta_1=0.9, beta_2=0.999, amsgrad=False)\n",
    "#parallel_model = multi_gpu_model(model, gpus=2)\n",
    "model.compile(optimizer=\"Adam\", loss=\"categorical_crossentropy\", metrics=[\"accuracy\"])"
   ]
  },
  {
   "cell_type": "code",
   "execution_count": null,
   "metadata": {
    "collapsed": true
   },
   "outputs": [],
   "source": [
    "model.summary()"
   ]
  },
  {
   "cell_type": "code",
   "execution_count": 21,
   "metadata": {},
   "outputs": [
    {
     "name": "stdout",
     "output_type": "stream",
     "text": [
      "Train on 180756 samples, validate on 20084 samples\n",
      "Epoch 1/50\n",
      "180756/180756 [==============================] - 456s 3ms/step - loss: 2.7216 - root_loss: 1.9953 - vowel_loss: 0.3977 - consonants_loss: 0.3285 - root_acc: 0.4495 - vowel_acc: 0.8685 - consonants_acc: 0.8909 - val_loss: 1.1362 - val_root_loss: 0.7788 - val_vowel_loss: 0.1931 - val_consonants_loss: 0.1643 - val_root_acc: 0.7675 - val_vowel_acc: 0.9386 - val_consonants_acc: 0.9487\n",
      "Epoch 2/50\n",
      "180756/180756 [==============================] - 458s 3ms/step - loss: 1.1441 - root_loss: 0.7653 - vowel_loss: 0.2051 - consonants_loss: 0.1737 - root_acc: 0.7761 - vowel_acc: 0.9362 - consonants_acc: 0.9454 - val_loss: 0.7938 - val_root_loss: 0.5173 - val_vowel_loss: 0.1467 - val_consonants_loss: 0.1298 - val_root_acc: 0.8469 - val_vowel_acc: 0.9551 - val_consonants_acc: 0.9597\n",
      "Epoch 3/50\n",
      "180756/180756 [==============================] - 459s 3ms/step - loss: 0.8388 - root_loss: 0.5501 - vowel_loss: 0.1542 - consonants_loss: 0.1345 - root_acc: 0.8401 - vowel_acc: 0.9532 - consonants_acc: 0.9585 - val_loss: 0.9237 - val_root_loss: 0.5694 - val_vowel_loss: 0.2019 - val_consonants_loss: 0.1524 - val_root_acc: 0.8581 - val_vowel_acc: 0.9482 - val_consonants_acc: 0.9562\n",
      "Epoch 4/50\n",
      "180756/180756 [==============================] - 459s 3ms/step - loss: 0.6948 - root_loss: 0.4513 - vowel_loss: 0.1295 - consonants_loss: 0.1140 - root_acc: 0.8680 - vowel_acc: 0.9621 - consonants_acc: 0.9655 - val_loss: 0.6081 - val_root_loss: 0.3940 - val_vowel_loss: 0.1172 - val_consonants_loss: 0.0968 - val_root_acc: 0.8911 - val_vowel_acc: 0.9666 - val_consonants_acc: 0.9720\n",
      "Epoch 5/50\n",
      "180756/180756 [==============================] - 458s 3ms/step - loss: 0.6132 - root_loss: 0.3977 - vowel_loss: 0.1152 - consonants_loss: 0.1003 - root_acc: 0.8831 - vowel_acc: 0.9663 - consonants_acc: 0.9702 - val_loss: 0.6033 - val_root_loss: 0.3880 - val_vowel_loss: 0.1137 - val_consonants_loss: 0.1016 - val_root_acc: 0.8952 - val_vowel_acc: 0.9697 - val_consonants_acc: 0.9699\n",
      "Epoch 6/50\n",
      "180756/180756 [==============================] - 459s 3ms/step - loss: 0.5925 - root_loss: 0.3834 - vowel_loss: 0.1106 - consonants_loss: 0.0985 - root_acc: 0.8899 - vowel_acc: 0.9685 - consonants_acc: 0.9710 - val_loss: 0.6180 - val_root_loss: 0.4050 - val_vowel_loss: 0.1060 - val_consonants_loss: 0.1069 - val_root_acc: 0.8912 - val_vowel_acc: 0.9724 - val_consonants_acc: 0.9711\n",
      "Epoch 7/50\n",
      "180756/180756 [==============================] - 457s 3ms/step - loss: 0.5335 - root_loss: 0.3450 - vowel_loss: 0.0997 - consonants_loss: 0.0887 - root_acc: 0.8990 - vowel_acc: 0.9718 - consonants_acc: 0.9737 - val_loss: 0.5159 - val_root_loss: 0.3244 - val_vowel_loss: 0.1015 - val_consonants_loss: 0.0900 - val_root_acc: 0.9119 - val_vowel_acc: 0.9732 - val_consonants_acc: 0.9767\n",
      "Epoch 8/50\n",
      "180756/180756 [==============================] - 459s 3ms/step - loss: 0.5053 - root_loss: 0.3260 - vowel_loss: 0.0952 - consonants_loss: 0.0841 - root_acc: 0.9052 - vowel_acc: 0.9734 - consonants_acc: 0.9752 - val_loss: 0.5305 - val_root_loss: 0.3289 - val_vowel_loss: 0.1167 - val_consonants_loss: 0.0849 - val_root_acc: 0.9144 - val_vowel_acc: 0.9699 - val_consonants_acc: 0.9767\n",
      "Epoch 9/50\n",
      "180756/180756 [==============================] - 458s 3ms/step - loss: 0.4879 - root_loss: 0.3178 - vowel_loss: 0.0910 - consonants_loss: 0.0790 - root_acc: 0.9087 - vowel_acc: 0.9745 - consonants_acc: 0.9770 - val_loss: 0.5368 - val_root_loss: 0.3500 - val_vowel_loss: 0.0992 - val_consonants_loss: 0.0877 - val_root_acc: 0.9130 - val_vowel_acc: 0.9765 - val_consonants_acc: 0.9766\n",
      "Epoch 10/50\n",
      "180756/180756 [==============================] - 456s 3ms/step - loss: 0.4607 - root_loss: 0.2995 - vowel_loss: 0.0860 - consonants_loss: 0.0752 - root_acc: 0.9137 - vowel_acc: 0.9761 - consonants_acc: 0.9784 - val_loss: 0.5180 - val_root_loss: 0.3251 - val_vowel_loss: 0.1095 - val_consonants_loss: 0.0834 - val_root_acc: 0.9178 - val_vowel_acc: 0.9737 - val_consonants_acc: 0.9781\n",
      "Epoch 11/50\n",
      "180756/180756 [==============================] - 456s 3ms/step - loss: 0.4475 - root_loss: 0.2908 - vowel_loss: 0.0847 - consonants_loss: 0.0720 - root_acc: 0.9169 - vowel_acc: 0.9766 - consonants_acc: 0.9791 - val_loss: 0.5221 - val_root_loss: 0.3311 - val_vowel_loss: 0.0990 - val_consonants_loss: 0.0920 - val_root_acc: 0.9194 - val_vowel_acc: 0.9771 - val_consonants_acc: 0.9775\n",
      "Epoch 12/50\n",
      "180756/180756 [==============================] - 455s 3ms/step - loss: 0.4311 - root_loss: 0.2815 - vowel_loss: 0.0793 - consonants_loss: 0.0703 - root_acc: 0.9199 - vowel_acc: 0.9782 - consonants_acc: 0.9799 - val_loss: 0.5663 - val_root_loss: 0.3596 - val_vowel_loss: 0.1183 - val_consonants_loss: 0.0884 - val_root_acc: 0.9179 - val_vowel_acc: 0.9722 - val_consonants_acc: 0.9775\n",
      "Epoch 13/50\n",
      "180756/180756 [==============================] - 456s 3ms/step - loss: 0.4243 - root_loss: 0.2761 - vowel_loss: 0.0794 - consonants_loss: 0.0688 - root_acc: 0.9220 - vowel_acc: 0.9783 - consonants_acc: 0.9803 - val_loss: 0.5266 - val_root_loss: 0.3385 - val_vowel_loss: 0.1001 - val_consonants_loss: 0.0879 - val_root_acc: 0.9216 - val_vowel_acc: 0.9778 - val_consonants_acc: 0.9789\n",
      "Epoch 14/50\n",
      "180756/180756 [==============================] - 457s 3ms/step - loss: 0.4148 - root_loss: 0.2708 - vowel_loss: 0.0763 - consonants_loss: 0.0677 - root_acc: 0.9238 - vowel_acc: 0.9795 - consonants_acc: 0.9810 - val_loss: 0.5461 - val_root_loss: 0.3471 - val_vowel_loss: 0.1077 - val_consonants_loss: 0.0913 - val_root_acc: 0.9206 - val_vowel_acc: 0.9775 - val_consonants_acc: 0.9792\n",
      "Epoch 15/50\n",
      "180756/180756 [==============================] - 459s 3ms/step - loss: 0.3983 - root_loss: 0.2613 - vowel_loss: 0.0739 - consonants_loss: 0.0631 - root_acc: 0.9275 - vowel_acc: 0.9804 - consonants_acc: 0.9821 - val_loss: 0.5784 - val_root_loss: 0.3696 - val_vowel_loss: 0.1133 - val_consonants_loss: 0.0955 - val_root_acc: 0.9205 - val_vowel_acc: 0.9777 - val_consonants_acc: 0.9769\n",
      "Epoch 16/50\n",
      "180756/180756 [==============================] - 459s 3ms/step - loss: 0.3993 - root_loss: 0.2622 - vowel_loss: 0.0725 - consonants_loss: 0.0646 - root_acc: 0.9279 - vowel_acc: 0.9808 - consonants_acc: 0.9818 - val_loss: 0.7058 - val_root_loss: 0.4403 - val_vowel_loss: 0.1407 - val_consonants_loss: 0.1249 - val_root_acc: 0.9086 - val_vowel_acc: 0.9739 - val_consonants_acc: 0.9740\n",
      "Epoch 17/50\n",
      "180756/180756 [==============================] - 458s 3ms/step - loss: 0.3953 - root_loss: 0.2570 - vowel_loss: 0.0745 - consonants_loss: 0.0638 - root_acc: 0.9301 - vowel_acc: 0.9808 - consonants_acc: 0.9823 - val_loss: 0.5629 - val_root_loss: 0.3581 - val_vowel_loss: 0.1130 - val_consonants_loss: 0.0918 - val_root_acc: 0.9173 - val_vowel_acc: 0.9753 - val_consonants_acc: 0.9749\n",
      "Epoch 18/50\n",
      "180756/180756 [==============================] - 459s 3ms/step - loss: 0.3858 - root_loss: 0.2517 - vowel_loss: 0.0716 - consonants_loss: 0.0624 - root_acc: 0.9320 - vowel_acc: 0.9813 - consonants_acc: 0.9829 - val_loss: 0.5626 - val_root_loss: 0.3541 - val_vowel_loss: 0.1068 - val_consonants_loss: 0.1017 - val_root_acc: 0.9240 - val_vowel_acc: 0.9789 - val_consonants_acc: 0.9767\n",
      "Epoch 19/50\n",
      "180756/180756 [==============================] - 457s 3ms/step - loss: 0.3798 - root_loss: 0.2492 - vowel_loss: 0.0709 - consonants_loss: 0.0596 - root_acc: 0.9328 - vowel_acc: 0.9818 - consonants_acc: 0.9837 - val_loss: 0.5560 - val_root_loss: 0.3628 - val_vowel_loss: 0.1066 - val_consonants_loss: 0.0866 - val_root_acc: 0.9212 - val_vowel_acc: 0.9790 - val_consonants_acc: 0.9798\n",
      "Epoch 20/50\n",
      "180756/180756 [==============================] - 458s 3ms/step - loss: 0.3782 - root_loss: 0.2484 - vowel_loss: 0.0712 - consonants_loss: 0.0586 - root_acc: 0.9338 - vowel_acc: 0.9820 - consonants_acc: 0.9841 - val_loss: 0.5539 - val_root_loss: 0.3492 - val_vowel_loss: 0.1103 - val_consonants_loss: 0.0944 - val_root_acc: 0.9268 - val_vowel_acc: 0.9797 - val_consonants_acc: 0.9781\n",
      "Epoch 21/50\n",
      "180756/180756 [==============================] - 456s 3ms/step - loss: 0.3727 - root_loss: 0.2456 - vowel_loss: 0.0686 - consonants_loss: 0.0586 - root_acc: 0.9356 - vowel_acc: 0.9824 - consonants_acc: 0.9843 - val_loss: 0.5909 - val_root_loss: 0.3757 - val_vowel_loss: 0.1130 - val_consonants_loss: 0.1022 - val_root_acc: 0.9226 - val_vowel_acc: 0.9759 - val_consonants_acc: 0.9744\n"
     ]
    },
    {
     "name": "stdout",
     "output_type": "stream",
     "text": [
      "Epoch 22/50\n",
      "180756/180756 [==============================] - 458s 3ms/step - loss: 0.3692 - root_loss: 0.2429 - vowel_loss: 0.0681 - consonants_loss: 0.0583 - root_acc: 0.9367 - vowel_acc: 0.9826 - consonants_acc: 0.9845 - val_loss: 0.5556 - val_root_loss: 0.3557 - val_vowel_loss: 0.1073 - val_consonants_loss: 0.0926 - val_root_acc: 0.9233 - val_vowel_acc: 0.9797 - val_consonants_acc: 0.9790\n",
      "Epoch 23/50\n",
      "180756/180756 [==============================] - 458s 3ms/step - loss: 0.3661 - root_loss: 0.2415 - vowel_loss: 0.0682 - consonants_loss: 0.0564 - root_acc: 0.9371 - vowel_acc: 0.9829 - consonants_acc: 0.9848 - val_loss: 0.5828 - val_root_loss: 0.3809 - val_vowel_loss: 0.1062 - val_consonants_loss: 0.0956 - val_root_acc: 0.9172 - val_vowel_acc: 0.9774 - val_consonants_acc: 0.9780\n",
      "Epoch 24/50\n",
      "180756/180756 [==============================] - 456s 3ms/step - loss: 0.3648 - root_loss: 0.2405 - vowel_loss: 0.0671 - consonants_loss: 0.0572 - root_acc: 0.9385 - vowel_acc: 0.9833 - consonants_acc: 0.9850 - val_loss: 0.6992 - val_root_loss: 0.4530 - val_vowel_loss: 0.1232 - val_consonants_loss: 0.1230 - val_root_acc: 0.9222 - val_vowel_acc: 0.9788 - val_consonants_acc: 0.9790\n",
      "Epoch 25/50\n",
      "180756/180756 [==============================] - 458s 3ms/step - loss: 0.3641 - root_loss: 0.2395 - vowel_loss: 0.0683 - consonants_loss: 0.0563 - root_acc: 0.9387 - vowel_acc: 0.9832 - consonants_acc: 0.9854 - val_loss: 0.6032 - val_root_loss: 0.3899 - val_vowel_loss: 0.1133 - val_consonants_loss: 0.1001 - val_root_acc: 0.9256 - val_vowel_acc: 0.9793 - val_consonants_acc: 0.9785\n",
      "Epoch 26/50\n",
      "180756/180756 [==============================] - 456s 3ms/step - loss: 0.3622 - root_loss: 0.2380 - vowel_loss: 0.0676 - consonants_loss: 0.0567 - root_acc: 0.9399 - vowel_acc: 0.9835 - consonants_acc: 0.9854 - val_loss: 0.5670 - val_root_loss: 0.3765 - val_vowel_loss: 0.1042 - val_consonants_loss: 0.0863 - val_root_acc: 0.9237 - val_vowel_acc: 0.9786 - val_consonants_acc: 0.9807\n",
      "Epoch 27/50\n",
      "180756/180756 [==============================] - 456s 3ms/step - loss: 0.3647 - root_loss: 0.2413 - vowel_loss: 0.0678 - consonants_loss: 0.0555 - root_acc: 0.9394 - vowel_acc: 0.9838 - consonants_acc: 0.9857 - val_loss: 0.8749 - val_root_loss: 0.5203 - val_vowel_loss: 0.1975 - val_consonants_loss: 0.1570 - val_root_acc: 0.9187 - val_vowel_acc: 0.9740 - val_consonants_acc: 0.9761\n",
      "Epoch 28/50\n",
      "180756/180756 [==============================] - 458s 3ms/step - loss: 0.3520 - root_loss: 0.2335 - vowel_loss: 0.0640 - consonants_loss: 0.0545 - root_acc: 0.9414 - vowel_acc: 0.9841 - consonants_acc: 0.9861 - val_loss: 0.6594 - val_root_loss: 0.4209 - val_vowel_loss: 0.1331 - val_consonants_loss: 0.1054 - val_root_acc: 0.9186 - val_vowel_acc: 0.9757 - val_consonants_acc: 0.9781\n",
      "Epoch 29/50\n",
      "180756/180756 [==============================] - 456s 3ms/step - loss: 0.3494 - root_loss: 0.2275 - vowel_loss: 0.0671 - consonants_loss: 0.0548 - root_acc: 0.9433 - vowel_acc: 0.9844 - consonants_acc: 0.9861 - val_loss: 0.6299 - val_root_loss: 0.4029 - val_vowel_loss: 0.1286 - val_consonants_loss: 0.0984 - val_root_acc: 0.9269 - val_vowel_acc: 0.9778 - val_consonants_acc: 0.9797\n",
      "Epoch 30/50\n",
      "180756/180756 [==============================] - 458s 3ms/step - loss: 0.3535 - root_loss: 0.2321 - vowel_loss: 0.0661 - consonants_loss: 0.0553 - root_acc: 0.9429 - vowel_acc: 0.9846 - consonants_acc: 0.9859 - val_loss: 0.6720 - val_root_loss: 0.4157 - val_vowel_loss: 0.1438 - val_consonants_loss: 0.1126 - val_root_acc: 0.9233 - val_vowel_acc: 0.9739 - val_consonants_acc: 0.9763\n",
      "Epoch 31/50\n",
      "180756/180756 [==============================] - 459s 3ms/step - loss: 0.3609 - root_loss: 0.2393 - vowel_loss: 0.0650 - consonants_loss: 0.0566 - root_acc: 0.9425 - vowel_acc: 0.9848 - consonants_acc: 0.9856 - val_loss: 0.6733 - val_root_loss: 0.4461 - val_vowel_loss: 0.1243 - val_consonants_loss: 0.1028 - val_root_acc: 0.9239 - val_vowel_acc: 0.9798 - val_consonants_acc: 0.9789\n",
      "Epoch 32/50\n",
      "180756/180756 [==============================] - 457s 3ms/step - loss: 0.3554 - root_loss: 0.2348 - vowel_loss: 0.0662 - consonants_loss: 0.0545 - root_acc: 0.9432 - vowel_acc: 0.9850 - consonants_acc: 0.9862 - val_loss: 0.6697 - val_root_loss: 0.4219 - val_vowel_loss: 0.1243 - val_consonants_loss: 0.1234 - val_root_acc: 0.9263 - val_vowel_acc: 0.9778 - val_consonants_acc: 0.9767\n",
      "Epoch 33/50\n",
      "180756/180756 [==============================] - 459s 3ms/step - loss: 0.3541 - root_loss: 0.2322 - vowel_loss: 0.0672 - consonants_loss: 0.0547 - root_acc: 0.9449 - vowel_acc: 0.9849 - consonants_acc: 0.9863 - val_loss: 0.7522 - val_root_loss: 0.4747 - val_vowel_loss: 0.1407 - val_consonants_loss: 0.1367 - val_root_acc: 0.9227 - val_vowel_acc: 0.9791 - val_consonants_acc: 0.9774\n",
      "Epoch 34/50\n",
      "180756/180756 [==============================] - 459s 3ms/step - loss: 0.3476 - root_loss: 0.2309 - vowel_loss: 0.0636 - consonants_loss: 0.0530 - root_acc: 0.9456 - vowel_acc: 0.9855 - consonants_acc: 0.9870 - val_loss: 0.7269 - val_root_loss: 0.4815 - val_vowel_loss: 0.1285 - val_consonants_loss: 0.1169 - val_root_acc: 0.9267 - val_vowel_acc: 0.9802 - val_consonants_acc: 0.9791\n",
      "Epoch 35/50\n",
      "180756/180756 [==============================] - 458s 3ms/step - loss: 0.3572 - root_loss: 0.2380 - vowel_loss: 0.0655 - consonants_loss: 0.0537 - root_acc: 0.9443 - vowel_acc: 0.9855 - consonants_acc: 0.9866 - val_loss: 0.5939 - val_root_loss: 0.3831 - val_vowel_loss: 0.1157 - val_consonants_loss: 0.0950 - val_root_acc: 0.9250 - val_vowel_acc: 0.9792 - val_consonants_acc: 0.9780\n",
      "Epoch 36/50\n",
      "180756/180756 [==============================] - 459s 3ms/step - loss: 0.3518 - root_loss: 0.2342 - vowel_loss: 0.0662 - consonants_loss: 0.0514 - root_acc: 0.9454 - vowel_acc: 0.9853 - consonants_acc: 0.9873 - val_loss: 0.6615 - val_root_loss: 0.4319 - val_vowel_loss: 0.1312 - val_consonants_loss: 0.0983 - val_root_acc: 0.9229 - val_vowel_acc: 0.9762 - val_consonants_acc: 0.9794\n",
      "Epoch 37/50\n",
      "180756/180756 [==============================] - 459s 3ms/step - loss: 0.3511 - root_loss: 0.2347 - vowel_loss: 0.0646 - consonants_loss: 0.0518 - root_acc: 0.9455 - vowel_acc: 0.9853 - consonants_acc: 0.9872 - val_loss: 0.6847 - val_root_loss: 0.4390 - val_vowel_loss: 0.1402 - val_consonants_loss: 0.1055 - val_root_acc: 0.9220 - val_vowel_acc: 0.9767 - val_consonants_acc: 0.9788\n",
      "Epoch 38/50\n",
      "180756/180756 [==============================] - 458s 3ms/step - loss: 0.3514 - root_loss: 0.2342 - vowel_loss: 0.0648 - consonants_loss: 0.0524 - root_acc: 0.9465 - vowel_acc: 0.9857 - consonants_acc: 0.9873 - val_loss: 0.7201 - val_root_loss: 0.4720 - val_vowel_loss: 0.1300 - val_consonants_loss: 0.1182 - val_root_acc: 0.9234 - val_vowel_acc: 0.9801 - val_consonants_acc: 0.9768\n",
      "Epoch 39/50\n",
      "180756/180756 [==============================] - 458s 3ms/step - loss: 0.3385 - root_loss: 0.2241 - vowel_loss: 0.0635 - consonants_loss: 0.0509 - root_acc: 0.9481 - vowel_acc: 0.9866 - consonants_acc: 0.9878 - val_loss: 0.6948 - val_root_loss: 0.4491 - val_vowel_loss: 0.1277 - val_consonants_loss: 0.1180 - val_root_acc: 0.9273 - val_vowel_acc: 0.9804 - val_consonants_acc: 0.9789\n",
      "Epoch 40/50\n",
      "180756/180756 [==============================] - 459s 3ms/step - loss: 0.3520 - root_loss: 0.2329 - vowel_loss: 0.0676 - consonants_loss: 0.0515 - root_acc: 0.9465 - vowel_acc: 0.9852 - consonants_acc: 0.9880 - val_loss: 0.7556 - val_root_loss: 0.4824 - val_vowel_loss: 0.1505 - val_consonants_loss: 0.1227 - val_root_acc: 0.9249 - val_vowel_acc: 0.9761 - val_consonants_acc: 0.9788\n",
      "Epoch 41/50\n",
      "180756/180756 [==============================] - 459s 3ms/step - loss: 0.3538 - root_loss: 0.2359 - vowel_loss: 0.0652 - consonants_loss: 0.0527 - root_acc: 0.9479 - vowel_acc: 0.9856 - consonants_acc: 0.9877 - val_loss: 0.7576 - val_root_loss: 0.4932 - val_vowel_loss: 0.1462 - val_consonants_loss: 0.1182 - val_root_acc: 0.9167 - val_vowel_acc: 0.9757 - val_consonants_acc: 0.9791\n",
      "Epoch 42/50\n",
      "180756/180756 [==============================] - 459s 3ms/step - loss: 0.3454 - root_loss: 0.2269 - vowel_loss: 0.0662 - consonants_loss: 0.0523 - root_acc: 0.9490 - vowel_acc: 0.9858 - consonants_acc: 0.9877 - val_loss: 0.7206 - val_root_loss: 0.4687 - val_vowel_loss: 0.1371 - val_consonants_loss: 0.1148 - val_root_acc: 0.9230 - val_vowel_acc: 0.9782 - val_consonants_acc: 0.9789\n"
     ]
    },
    {
     "name": "stdout",
     "output_type": "stream",
     "text": [
      "Epoch 43/50\n",
      "180756/180756 [==============================] - 459s 3ms/step - loss: 0.3591 - root_loss: 0.2390 - vowel_loss: 0.0657 - consonants_loss: 0.0543 - root_acc: 0.9484 - vowel_acc: 0.9859 - consonants_acc: 0.9875 - val_loss: 0.7358 - val_root_loss: 0.4797 - val_vowel_loss: 0.1322 - val_consonants_loss: 0.1240 - val_root_acc: 0.9235 - val_vowel_acc: 0.9804 - val_consonants_acc: 0.9788\n",
      "Epoch 44/50\n",
      "180756/180756 [==============================] - 458s 3ms/step - loss: 0.3696 - root_loss: 0.2485 - vowel_loss: 0.0683 - consonants_loss: 0.0529 - root_acc: 0.9483 - vowel_acc: 0.9854 - consonants_acc: 0.9879 - val_loss: 0.7904 - val_root_loss: 0.5141 - val_vowel_loss: 0.1461 - val_consonants_loss: 0.1302 - val_root_acc: 0.9228 - val_vowel_acc: 0.9780 - val_consonants_acc: 0.9785\n",
      "Epoch 45/50\n",
      "180756/180756 [==============================] - 458s 3ms/step - loss: 0.3585 - root_loss: 0.2405 - vowel_loss: 0.0643 - consonants_loss: 0.0537 - root_acc: 0.9486 - vowel_acc: 0.9864 - consonants_acc: 0.9875 - val_loss: 0.7233 - val_root_loss: 0.4561 - val_vowel_loss: 0.1229 - val_consonants_loss: 0.1442 - val_root_acc: 0.9232 - val_vowel_acc: 0.9793 - val_consonants_acc: 0.9744\n",
      "Epoch 46/50\n",
      "180756/180756 [==============================] - 457s 3ms/step - loss: 0.3492 - root_loss: 0.2326 - vowel_loss: 0.0644 - consonants_loss: 0.0522 - root_acc: 0.9502 - vowel_acc: 0.9867 - consonants_acc: 0.9882 - val_loss: 0.7345 - val_root_loss: 0.4731 - val_vowel_loss: 0.1396 - val_consonants_loss: 0.1218 - val_root_acc: 0.9254 - val_vowel_acc: 0.9775 - val_consonants_acc: 0.9776\n",
      "Epoch 47/50\n",
      "180756/180756 [==============================] - 457s 3ms/step - loss: 0.3537 - root_loss: 0.2363 - vowel_loss: 0.0656 - consonants_loss: 0.0517 - root_acc: 0.9502 - vowel_acc: 0.9868 - consonants_acc: 0.9884 - val_loss: 0.7138 - val_root_loss: 0.4516 - val_vowel_loss: 0.1399 - val_consonants_loss: 0.1223 - val_root_acc: 0.9260 - val_vowel_acc: 0.9774 - val_consonants_acc: 0.9784\n",
      "Epoch 48/50\n",
      "180756/180756 [==============================] - 458s 3ms/step - loss: 0.3578 - root_loss: 0.2366 - vowel_loss: 0.0677 - consonants_loss: 0.0534 - root_acc: 0.9510 - vowel_acc: 0.9864 - consonants_acc: 0.9883 - val_loss: 0.7489 - val_root_loss: 0.4824 - val_vowel_loss: 0.1393 - val_consonants_loss: 0.1272 - val_root_acc: 0.9276 - val_vowel_acc: 0.9794 - val_consonants_acc: 0.9790\n",
      "Epoch 49/50\n",
      "180756/180756 [==============================] - 458s 3ms/step - loss: 0.3611 - root_loss: 0.2424 - vowel_loss: 0.0670 - consonants_loss: 0.0517 - root_acc: 0.9497 - vowel_acc: 0.9864 - consonants_acc: 0.9886 - val_loss: 0.8904 - val_root_loss: 0.5869 - val_vowel_loss: 0.1718 - val_consonants_loss: 0.1318 - val_root_acc: 0.9236 - val_vowel_acc: 0.9749 - val_consonants_acc: 0.9806\n",
      "Epoch 50/50\n",
      "180756/180756 [==============================] - 458s 3ms/step - loss: 0.3578 - root_loss: 0.2411 - vowel_loss: 0.0675 - consonants_loss: 0.0493 - root_acc: 0.9512 - vowel_acc: 0.9866 - consonants_acc: 0.9887 - val_loss: 0.8169 - val_root_loss: 0.5328 - val_vowel_loss: 0.1513 - val_consonants_loss: 0.1328 - val_root_acc: 0.9281 - val_vowel_acc: 0.9789 - val_consonants_acc: 0.9799\n"
     ]
    }
   ],
   "source": [
    "history = model.fit(x_train, {'root':y_train_root, 'vowel':y_train_vowel,'consonants':y_train_consonant}, epochs=50, verbose=1, validation_data = (x_test, [y_test_root, y_test_vowel, y_test_consonant]))\n"
   ]
  },
  {
   "cell_type": "code",
   "execution_count": 22,
   "metadata": {
    "collapsed": true
   },
   "outputs": [],
   "source": [
    "\n",
    "model.save('Bengali_model_v2.h5')"
   ]
  },
  {
   "cell_type": "code",
   "execution_count": 7,
   "metadata": {},
   "outputs": [
    {
     "name": "stdout",
     "output_type": "stream",
     "text": [
      "Num GPUs Available:  4\n"
     ]
    }
   ],
   "source": [
    "print(\"Num GPUs Available: \", len(tf.config.experimental.list_physical_devices('GPU')))"
   ]
  },
  {
   "cell_type": "code",
   "execution_count": 23,
   "metadata": {
    "collapsed": true
   },
   "outputs": [],
   "source": [
    "def get_train_test_files():\n",
    "    train_files =[]\n",
    "    test_files = []\n",
    "    for name in os.listdir():\n",
    "        if name.split(\".\")[-1] == \"parquet\":\n",
    "            if name.split(\"_\")[0] == \"train\":\n",
    "                train_files.append(name)\n",
    "            else:\n",
    "                test_files.append(name)\n",
    "    train_files.sort()\n",
    "    test_files.sort()\n",
    "    return train_files, test_files"
   ]
  },
  {
   "cell_type": "code",
   "execution_count": 24,
   "metadata": {
    "collapsed": true
   },
   "outputs": [],
   "source": [
    "def test_train_files():\n",
    "    train_files, test_files = get_train_test_files()\n",
    "    print(train_files)\n",
    "    print(test_files)"
   ]
  },
  {
   "cell_type": "code",
   "execution_count": 25,
   "metadata": {
    "collapsed": true
   },
   "outputs": [],
   "source": [
    "def load_test_data():\n",
    "    train_files, test_files = get_train_test_files()\n",
    "    mast_test = pd.DataFrame()\n",
    "    for parfile in test_files:\n",
    "        print(parfile)\n",
    "        test_parqutet = pd.read_parquet(parfile)\n",
    "        mast_test = mast_test.append(test_parqutet)\n",
    "    #print (mast_train.)\n",
    "    return mast_test"
   ]
  },
  {
   "cell_type": "code",
   "execution_count": 50,
   "metadata": {
    "collapsed": true
   },
   "outputs": [],
   "source": [
    "%matplotlib inline\n",
    "def plot_loss(his, epoch, title):\n",
    "    plt.style.use('ggplot')\n",
    "    plt.figure()\n",
    "    plt.plot(np.arange(0, epoch), his.history['loss'], label='train_loss')\n",
    "    plt.plot(np.arange(0, epoch), his.history['root_loss'], label='train_root_loss')\n",
    "    plt.plot(np.arange(0, epoch), his.history['vowel_loss'], label='train_vowel_loss')\n",
    "    plt.plot(np.arange(0, epoch), his.history['consonants_loss'], label='train_consonant_loss')\n",
    "    \n",
    "    plt.plot(np.arange(0, epoch), his.history['val_root_loss'], label='val_train_root_loss')\n",
    "    plt.plot(np.arange(0, epoch), his.history['val_vowel_loss'], label='val_train_vowel_loss')\n",
    "    plt.plot(np.arange(0, epoch), his.history['val_consonants_loss'], label='val_train_consonant_loss')\n",
    "    \n",
    "    plt.title(title)\n",
    "    plt.xlabel('Epoch #')\n",
    "    plt.ylabel('Loss')\n",
    "    plt.legend(loc='upper right')\n",
    "    plt.show()\n",
    "\n",
    "def plot_acc(his, epoch, title):\n",
    "    plt.style.use('ggplot')\n",
    "    plt.figure()\n",
    "    plt.plot(np.arange(0, epoch), his.history['root_acc'], label='train_root_acc')\n",
    "    plt.plot(np.arange(0, epoch), his.history['vowel_acc'], label='train_vowel_accuracy')\n",
    "    plt.plot(np.arange(0, epoch), his.history['consonants_acc'], label='train_consonant_accuracy')\n",
    "    \n",
    "    plt.plot(np.arange(0, epoch), his.history['val_root_acc'], label='val_root_acc')\n",
    "    plt.plot(np.arange(0, epoch), his.history['val_vowel_acc'], label='val_vowel_accuracy')\n",
    "    plt.plot(np.arange(0, epoch), his.history['val_consonants_acc'], label='val_consonant_accuracy')\n",
    "    plt.title(title)\n",
    "    plt.xlabel('Epoch #')\n",
    "    plt.ylabel('Accuracy')\n",
    "    plt.legend(loc='upper right')\n",
    "    plt.show()"
   ]
  },
  {
   "cell_type": "code",
   "execution_count": 51,
   "metadata": {},
   "outputs": [
    {
     "data": {
      "image/png": "[encoded data removed]",
      "text/plain": [
       "<Figure size 432x288 with 1 Axes>"
      ]
     },
     "metadata": {},
     "output_type": "display_data"
    }
   ],
   "source": [
    "plot_loss(history, 50, \"The Loss Graph\")"
   ]
  },
  {
   "cell_type": "code",
   "execution_count": 52,
   "metadata": {},
   "outputs": [
    {
     "data": {
      "text/plain": [
       "dict_keys(['val_loss', 'val_root_loss', 'val_vowel_loss', 'val_consonants_loss', 'val_root_acc', 'val_vowel_acc', 'val_consonants_acc', 'loss', 'root_loss', 'vowel_loss', 'consonants_loss', 'root_acc', 'vowel_acc', 'consonants_acc'])"
      ]
     },
     "execution_count": 52,
     "metadata": {},
     "output_type": "execute_result"
    }
   ],
   "source": [
    "history.history.keys()\n",
    "    "
   ]
  },
  {
   "cell_type": "code",
   "execution_count": 53,
   "metadata": {},
   "outputs": [
    {
     "data": {
      "image/png": "[encoded data removed]",
      "text/plain": [
       "<Figure size 432x288 with 1 Axes>"
      ]
     },
     "metadata": {},
     "output_type": "display_data"
    }
   ],
   "source": [
    "plot_acc(history, 50, \"The Accuracy Graph\")"
   ]
  },
  {
   "cell_type": "code",
   "execution_count": 54,
   "metadata": {
    "collapsed": true
   },
   "outputs": [],
   "source": [
    "preds_dict = {\n",
    "    'grapheme_root': [],\n",
    "    'vowel_diacritic': [],\n",
    "    'consonant_diacritic': []\n",
    "}"
   ]
  },
  {
   "cell_type": "code",
   "execution_count": 2,
   "metadata": {
    "collapsed": true
   },
   "outputs": [],
   "source": [
    "def resize_images(X_train):\n",
    "    resized_img = {}\n",
    "    for i in range(len(X_train)):\n",
    "        img =  X_train[i]\n",
    "        #print (img.shape)\n",
    "        img = resize(img.astype(\"float32\"), (128,128))\n",
    "        resized_img[i] = img\n",
    "    return resized_img"
   ]
  },
  {
   "cell_type": "code",
   "execution_count": 28,
   "metadata": {},
   "outputs": [
    {
     "name": "stderr",
     "output_type": "stream",
     "text": [
      "/usr/local/lib/python3.7/site-packages/keras/engine/saving.py:251: DeprecationWarning: The truth value of an empty array is ambiguous. Returning False, but in future this will result in an error. Use `array.size > 0` to check that an array is not empty.\n",
      "  if weight_names:\n",
      "W0117 21:00:07.424379 139753397233408 deprecation.py:323] From /usr/local/lib/python3.7/site-packages/tensorflow/python/ops/math_grad.py:1250: add_dispatch_support.<locals>.wrapper (from tensorflow.python.ops.array_ops) is deprecated and will be removed in a future version.\n",
      "Instructions for updating:\n",
      "Use tf.where in 2.0, which has the same broadcast rule as np.where\n"
     ]
    }
   ],
   "source": [
    "from keras.models import load_model\n",
    "model = load_model(\"models/Bengali_model_v2.h5\")"
   ]
  },
  {
   "cell_type": "code",
   "execution_count": 29,
   "metadata": {
    "collapsed": true
   },
   "outputs": [],
   "source": [
    "from skimage.transform import rescale, resize, downscale_local_mean\n",
    "from tqdm import tqdm\n",
    "IMG_SIZE=128\n",
    "N_CHANNELS=1\n",
    "\n",
    "def reshape_array(df):\n",
    "    X_train = np.array(df,dtype=\"float32\")\n",
    "    X_train = X_train.reshape(len(df), IM_HEIGHT,IM_WIDTH)\n",
    "    return X_train\n",
    "\n",
    "def resize_images(X_train):\n",
    "    resized_img = np.empty([128,128])\n",
    "    #print (resized_img.shape)\n",
    "    for i in range(len(X_train)):\n",
    "        #print (i)\n",
    "        img =  X_train[i]\n",
    "        #print (img.shape)\n",
    "        img = resize(img.astype(\"float32\"), (128,128))\n",
    "        #print (img.shape)\n",
    "        #resized_img[i] = img\n",
    "        resized_img = np.vstack((resized_img,img))\n",
    "    return resized_img"
   ]
  },
  {
   "cell_type": "code",
   "execution_count": 30,
   "metadata": {},
   "outputs": [
    {
     "data": {
      "text/html": [
       "<div>\n",
       "<style scoped>\n",
       "    .dataframe tbody tr th:only-of-type {\n",
       "        vertical-align: middle;\n",
       "    }\n",
       "\n",
       "    .dataframe tbody tr th {\n",
       "        vertical-align: top;\n",
       "    }\n",
       "\n",
       "    .dataframe thead th {\n",
       "        text-align: right;\n",
       "    }\n",
       "</style>\n",
       "<table border=\"1\" class=\"dataframe\">\n",
       "  <thead>\n",
       "    <tr style=\"text-align: right;\">\n",
       "      <th></th>\n",
       "      <th>row_id</th>\n",
       "      <th>target</th>\n",
       "    </tr>\n",
       "  </thead>\n",
       "  <tbody>\n",
       "    <tr>\n",
       "      <th>0</th>\n",
       "      <td>0_consonant_diacritic</td>\n",
       "      <td>4</td>\n",
       "    </tr>\n",
       "    <tr>\n",
       "      <th>1</th>\n",
       "      <td>0_grapheme_root</td>\n",
       "      <td>9</td>\n",
       "    </tr>\n",
       "    <tr>\n",
       "      <th>2</th>\n",
       "      <td>0_vowel_diacritic</td>\n",
       "      <td>1</td>\n",
       "    </tr>\n",
       "    <tr>\n",
       "      <th>3</th>\n",
       "      <td>1_consonant_diacritic</td>\n",
       "      <td>0</td>\n",
       "    </tr>\n",
       "    <tr>\n",
       "      <th>4</th>\n",
       "      <td>1_grapheme_root</td>\n",
       "      <td>3</td>\n",
       "    </tr>\n",
       "  </tbody>\n",
       "</table>\n",
       "</div>"
      ],
      "text/plain": [
       "                  row_id  target\n",
       "0  0_consonant_diacritic       4\n",
       "1        0_grapheme_root       9\n",
       "2      0_vowel_diacritic       1\n",
       "3  1_consonant_diacritic       0\n",
       "4        1_grapheme_root       3"
      ]
     },
     "execution_count": 30,
     "metadata": {},
     "output_type": "execute_result"
    }
   ],
   "source": [
    "from skimage.transform import rescale, resize, downscale_local_mean\n",
    "from tqdm import tqdm\n",
    "IMG_SIZE=128\n",
    "N_CHANNELS=1\n",
    "\n",
    "preds_dict = {\n",
    "    'grapheme_root': [],\n",
    "    'vowel_diacritic': [],\n",
    "    'consonant_diacritic': []\n",
    "}\n",
    "\n",
    "\n",
    "components = ['consonant_diacritic', 'grapheme_root', 'vowel_diacritic']\n",
    "target=[] # model predictions placeholder\n",
    "row_id=[] # row_id place holder\n",
    "for i in range(4):\n",
    "    df_test_img = pd.read_parquet('test_image_data_{}.parquet'.format(i)) \n",
    "    image_ids = df_test_img[\"image_id\"]\n",
    "    df_test_img.drop(columns=[\"image_id\"],inplace=True)\n",
    "    X_test = reshape_array(df_test_img)\n",
    "    \n",
    "    \n",
    "    X_test = resize_images(X_test)\n",
    "    X_test = X_test.reshape(-1, IMG_SIZE, IMG_SIZE, N_CHANNELS)\n",
    "    \n",
    "    preds = model.predict(X_test)\n",
    "\n",
    "    for i, p in enumerate(preds_dict):\n",
    "        preds_dict[p] = np.argmax(preds[i], axis=1)\n",
    "\n",
    "    for k,id in enumerate(image_ids.index.values):  \n",
    "        for i,comp in enumerate(components):\n",
    "            id_sample=str(id)+'_'+ str(comp)\n",
    "            row_id.append(id_sample)\n",
    "            target.append(preds_dict[comp][k])\n",
    "    del df_test_img\n",
    "    del X_test\n",
    "    gc.collect()\n",
    "\n",
    "df_sample = pd.DataFrame(\n",
    "    {\n",
    "        'row_id': row_id,\n",
    "        'target':target\n",
    "    },\n",
    "    columns = ['row_id','target'] \n",
    ")\n",
    "df_sample.to_csv('submission.csv',index=False)\n",
    "df_sample.head()"
   ]
  },
  {
   "cell_type": "code",
   "execution_count": 31,
   "metadata": {},
   "outputs": [
    {
     "name": "stdout",
     "output_type": "stream",
     "text": [
      "row_id,target\r\n",
      "0_consonant_diacritic,4\r\n",
      "0_grapheme_root,9\r\n",
      "0_vowel_diacritic,1\r\n",
      "1_consonant_diacritic,0\r\n",
      "1_grapheme_root,3\r\n",
      "1_vowel_diacritic,0\r\n",
      "2_consonant_diacritic,0\r\n",
      "2_grapheme_root,93\r\n",
      "2_vowel_diacritic,2\r\n",
      "0_consonant_diacritic,4\r\n",
      "0_grapheme_root,9\r\n",
      "0_vowel_diacritic,1\r\n",
      "1_consonant_diacritic,0\r\n",
      "1_grapheme_root,115\r\n",
      "1_vowel_diacritic,0\r\n",
      "2_consonant_diacritic,0\r\n",
      "2_grapheme_root,55\r\n",
      "2_vowel_diacritic,4\r\n",
      "0_consonant_diacritic,4\r\n",
      "0_grapheme_root,96\r\n",
      "0_vowel_diacritic,1\r\n",
      "1_consonant_diacritic,5\r\n",
      "1_grapheme_root,147\r\n",
      "1_vowel_diacritic,9\r\n",
      "2_consonant_diacritic,0\r\n",
      "2_grapheme_root,137\r\n",
      "2_vowel_diacritic,7\r\n",
      "0_consonant_diacritic,1\r\n",
      "0_grapheme_root,87\r\n",
      "0_vowel_diacritic,4\r\n",
      "1_consonant_diacritic,0\r\n",
      "1_grapheme_root,133\r\n",
      "1_vowel_diacritic,10\r\n",
      "2_consonant_diacritic,4\r\n",
      "2_grapheme_root,148\r\n",
      "2_vowel_diacritic,1\r\n"
     ]
    }
   ],
   "source": [
    "!cat submission.csv"
   ]
  },
  {
   "cell_type": "code",
   "execution_count": 36,
   "metadata": {},
   "outputs": [
    {
     "name": "stdout",
     "output_type": "stream",
     "text": [
      "0\n",
      "1\n",
      "2\n"
     ]
    }
   ],
   "source": [
    "i=1\n",
    "df_test_img = pd.read_parquet('test_image_data_{}.parquet'.format(3)) \n",
    "#df_test_img.set_index('image_id', inplace=True)\n",
    "image_ids = df_test_img[\"image_id\"]\n",
    "df_test_img.drop(columns=[\"image_id\"],inplace=True)\n",
    "X_test = np.array(df_test_img)\n",
    "X_test = reshape_array(X_test)\n",
    "X_test = resize_images(X_test)"
   ]
  },
  {
   "cell_type": "code",
   "execution_count": 8,
   "metadata": {},
   "outputs": [
    {
     "data": {
      "text/plain": [
       "(2, 3)"
      ]
     },
     "execution_count": 8,
     "metadata": {},
     "output_type": "execute_result"
    }
   ],
   "source": [
    "import numpy as np\n",
    "\n",
    "arr = np.empty([0,3])\n",
    "arr =np.vstack((arr,[1,2,3]))\n",
    "arr = np.vstack((arr,[4,5,6]))\n",
    "\n",
    "arr.shape\n"
   ]
  },
  {
   "cell_type": "code",
   "execution_count": 34,
   "metadata": {},
   "outputs": [
    {
     "data": {
      "text/plain": [
       "3"
      ]
     },
     "execution_count": 34,
     "metadata": {},
     "output_type": "execute_result"
    }
   ],
   "source": [
    "len(X_test.values())"
   ]
  },
  {
   "cell_type": "code",
   "execution_count": 44,
   "metadata": {
    "collapsed": true
   },
   "outputs": [],
   "source": [
    "X_test  = X_test.values()"
   ]
  },
  {
   "cell_type": "code",
   "execution_count": 57,
   "metadata": {},
   "outputs": [
    {
     "name": "stdout",
     "output_type": "stream",
     "text": [
      "3\n"
     ]
    }
   ],
   "source": [
    "print(len(preds))"
   ]
  },
  {
   "cell_type": "code",
   "execution_count": 37,
   "metadata": {},
   "outputs": [],
   "source": [
    "IMG_SIZE = 128\n",
    "inputs = Input(shape = (IMG_SIZE, IMG_SIZE,1))\n",
    "\n",
    "model = Conv2D(filters=32, kernel_size=(3, 3), padding='SAME', activation=\"elu\", \n",
    "               input_shape=(IMG_SIZE, IMG_SIZE,1))(inputs)\n",
    "model = BatchNormalization(momentum=0.15)(model)\n",
    "model = MaxPool2D(pool_size=(2, 2))(model)\n",
    "#model = Conv2D(filters=32, kernel_size=(5, 5), padding='SAME', activation='elu')(model)\n",
    "model = Dropout(rate=0.3)(model)\n",
    "\n",
    "model = Conv2D(filters=64, kernel_size=(3, 3), padding='SAME', activation='elu')(model)\n",
    "#model = Conv2D(filters=64, kernel_size=(3, 3), padding='SAME', activation='elu')(model)\n",
    "model = Conv2D(filters=64, kernel_size=(3, 3), padding='SAME', activation='elu')(model)\n",
    "model = BatchNormalization(momentum=0.15)(model)\n",
    "model = MaxPool2D(pool_size=(2, 2))(model)\n",
    "model = Conv2D(filters=64, kernel_size=(5, 5), padding='SAME', activation='elu')(model)\n",
    "model = BatchNormalization(momentum=0.15)(model)\n",
    "model = Dropout(rate=0.3)(model)\n",
    "\n",
    "model = Conv2D(filters=128, kernel_size=(3, 3), padding='SAME', activation='elu')(model)\n",
    "#model = Conv2D(filters=128, kernel_size=(3, 3), padding='SAME', activation='elu')(model)\n",
    "#model = Conv2D(filters=128, kernel_size=(3, 3), padding='SAME', activation='elu')(model)\n",
    "model = BatchNormalization(momentum=0.15)(model)\n",
    "model = MaxPool2D(pool_size=(2, 2))(model)\n",
    "model = Conv2D(filters=128, kernel_size=(5, 5), padding='SAME', activation='elu')(model)\n",
    "model = BatchNormalization(momentum=0.15)(model)\n",
    "model = Dropout(rate=0.3)(model)\n",
    "\n",
    "model = Flatten()(model)\n",
    "model = Dense(1024, activation = \"elu\")(model)\n",
    "model = Dropout(rate=0.3)(model)\n",
    "dense = Dense(512, activation = \"elu\")(model)\n",
    "\n",
    "head_root = Dense(168, activation = 'softmax', name=\"root\")(dense)\n",
    "head_vowel = Dense(11, activation = 'softmax', name=\"vowel\")(dense)\n",
    "head_consonant = Dense(7, activation = 'softmax', name=\"consonants\")(dense)\n",
    "\n",
    "#https://keras.io/regularizers/\n",
    "#model.add(Dense(64, input_dim=64,\n",
    "#                kernel_regularizer=regularizers.l2(0.01),\n",
    "#                activity_regularizer=regularizers.l1(0.01)))\n",
    "\n",
    "\n",
    "model = Model(inputs=inputs, outputs=[head_root, head_vowel, head_consonant])\n",
    "\n",
    "#optzer = keras.optimizers.Adam(learning_rate=0.0001, beta_1=0.9, beta_2=0.999, amsgrad=False)\n",
    "#parallel_model = multi_gpu_model(model, gpus=3)\n",
    "\n",
    "model.compile(optimizer=\"Adam\", loss=\"categorical_crossentropy\", metrics=[\"accuracy\"])"
   ]
  },
  {
   "cell_type": "code",
   "execution_count": null,
   "metadata": {
    "collapsed": true
   },
   "outputs": [],
   "source": []
  }
 ],
 "metadata": {
  "kernelspec": {
   "display_name": "Python 3",
   "language": "python",
   "name": "python3"
  },
  "language_info": {
   "codemirror_mode": {
    "name": "ipython",
    "version": 3
   },
   "file_extension": ".py",
   "mimetype": "text/x-python",
   "name": "python",
   "nbconvert_exporter": "python",
   "pygments_lexer": "ipython3",
   "version": "3.7.4"
  }
 },
 "nbformat": 4,
 "nbformat_minor": 2
}
